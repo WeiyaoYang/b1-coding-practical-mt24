{
 "cells": [
  {
   "cell_type": "markdown",
   "metadata": {},
   "source": [
    "# Simulate closed-loop\n",
    "After implementing your control functionality, you can simulate the closed-loop with code that looks something like this..."
   ]
  },
  {
   "cell_type": "code",
   "execution_count": 1,
   "metadata": {},
   "outputs": [],
   "source": [
    "import numpy as np\n",
    "\n",
    "class PDController:\n",
    "\tdef __init__(self, kp: float = 0.15, kd: float = 0.6):\n",
    "\t\tself.kp = kp\n",
    "\t\tself.kd = kd\n",
    "\t\tself.previous_error = 0.0\n",
    "\n",
    "\tdef reset(self) -> None:\n",
    "\t\tself.previous_error = 0.0\n",
    "\n",
    "\tdef compute_control_action(self, current_error: float) -> float:\n",
    "\t\tproportional = self.kp * current_error\n",
    "\t\tderivative = self.kd * (current_error - self.previous_error)\n",
    "\t\tcontrol_action = proportional + derivative\n",
    "        \n",
    "\t\tself.previous_error = current_error\n",
    "        \n",
    "\t\treturn control_action"
   ]
  }
 ],
 "metadata": {
  "kernelspec": {
   "display_name": "Python 3",
   "language": "python",
   "name": "python3"
  },
  "language_info": {
   "codemirror_mode": {
    "name": "ipython",
    "version": 3
   },
   "file_extension": ".py",
   "mimetype": "text/x-python",
   "name": "python",
   "nbconvert_exporter": "python",
   "pygments_lexer": "ipython3",
   "version": "3.13.7"
  }
 },
 "nbformat": 4,
 "nbformat_minor": 2
}
